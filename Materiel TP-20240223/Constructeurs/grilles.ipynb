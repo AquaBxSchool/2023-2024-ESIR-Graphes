{
 "cells": [
  {
   "cell_type": "markdown",
   "metadata": {},
   "source": [
    "# Construction de grilles"
   ]
  },
  {
   "cell_type": "markdown",
   "metadata": {},
   "source": [
    "On construit un graphe non orienté et sans boucles avec la structure de grille, avec $m \\geq 1$ lignes et $n \\geq 1$ colonnes. Un exemple de grille $3 \\times 5$ (3 lignes et 5 colonnes) est donné dans le dessin suivant."
   ]
  },
  {
   "attachments": {
    "grille3f5.png": {
     "image/png": "[encoded data removed]"
    }
   },
   "cell_type": "markdown",
   "metadata": {},
   "source": [
    "![grille3f5.png](attachment:grille3f5.png)"
   ]
  },
  {
   "cell_type": "markdown",
   "metadata": {},
   "source": [
    "La fonction suivante fabrique une telle grille, avec le même type de numérotation du dessin."
   ]
  },
  {
   "cell_type": "code",
   "execution_count": 1,
   "metadata": {},
   "outputs": [],
   "source": [
    "def creerGrille(m,n):\n",
    "    \"\"\"\n",
    "    construit un graphe non orienté de type grille\n",
    "    avec m >= 1 lignes et n >= 1 colonnes\n",
    "    \"\"\"\n",
    "    g = [ [] for _ in range(m*n) ]\n",
    "    # --- les bords\n",
    "    if m==1:\n",
    "        for x in range(1,n-1):\n",
    "            g[x].append(x-1)\n",
    "            g[x].append(x+1)\n",
    "        g[0].append(1)\n",
    "        g[n-1].append(n-2)\n",
    "        return g\n",
    "    if n==1:\n",
    "        for y in range(1,m-1):\n",
    "            g[y].append(y-1)\n",
    "            g[y].append(y+1)\n",
    "        g[0].append(1)\n",
    "        g[m-1].append(m-2)\n",
    "        return g\n",
    "    # --- cas gral. ; arêtes \"horizontales\"\n",
    "    for i in range(m):\n",
    "        for j in range(1,n-1):\n",
    "            x = i*n + j\n",
    "            g[x].append(x-1); g[x].append(x+1)\n",
    "        x = i*n\n",
    "        g[x].append(x+1)\n",
    "        x += n-1\n",
    "        g[x].append(x-1)\n",
    "    # --- arêtes \"verticales\"\n",
    "    for j in range(n):\n",
    "        for i in range(1,m-1):\n",
    "            x = n*i + j\n",
    "            g[x].append(x-n); g[x].append(x+n)\n",
    "        # row 0\n",
    "        x = j\n",
    "        g[x].append(x+n)\n",
    "        # row m\n",
    "        x = (m-1)*n + j\n",
    "        g[x].append(x-n)\n",
    "    # --- sorting\n",
    "    for x in range(m*n):\n",
    "        g[x].sort()\n",
    "    return g\n"
   ]
  },
  {
   "cell_type": "code",
   "execution_count": 2,
   "metadata": {},
   "outputs": [
    {
     "name": "stdout",
     "output_type": "stream",
     "text": [
      "[[1, 3], [0, 2, 4], [1, 5], [0, 4], [1, 3, 5], [2, 4]]\n"
     ]
    }
   ],
   "source": [
    "# grille 2 fois 3\n",
    "g = creerGrille(2,3)\n",
    "print(g)"
   ]
  },
  {
   "cell_type": "code",
   "execution_count": 3,
   "metadata": {},
   "outputs": [
    {
     "name": "stdout",
     "output_type": "stream",
     "text": [
      "[[1, 5], [0, 2, 6], [1, 3, 7], [2, 4, 8], [3, 9], [0, 6, 10], [1, 5, 7, 11], [2, 6, 8, 12], [3, 7, 9, 13], [4, 8, 14], [5, 11], [6, 10, 12], [7, 11, 13], [8, 12, 14], [9, 13]]\n"
     ]
    }
   ],
   "source": [
    "# grille 3 fois 5\n",
    "g = creerGrille(3,5)\n",
    "print(g)"
   ]
  },
  {
   "cell_type": "code",
   "execution_count": 4,
   "metadata": {},
   "outputs": [
    {
     "name": "stdout",
     "output_type": "stream",
     "text": [
      "[[1], [0, 2], [1, 3], [2]]\n"
     ]
    }
   ],
   "source": [
    "# grille 1 fois 4\n",
    "g = creerGrille(1,4)\n",
    "print(g)"
   ]
  },
  {
   "cell_type": "code",
   "execution_count": 5,
   "metadata": {},
   "outputs": [
    {
     "name": "stdout",
     "output_type": "stream",
     "text": [
      "[[1], [0, 2], [1, 3], [2, 4], [3]]\n"
     ]
    }
   ],
   "source": [
    "# grille 5 fois 1\n",
    "g = creerGrille(5,1)\n",
    "print(g)"
   ]
  },
  {
   "cell_type": "code",
   "execution_count": 6,
   "metadata": {},
   "outputs": [
    {
     "name": "stdout",
     "output_type": "stream",
     "text": [
      "[[1, 2], [0, 3], [0, 3], [1, 2]]\n"
     ]
    }
   ],
   "source": [
    "g = creerGrille(2,2)\n",
    "print(g)"
   ]
  }
 ],
 "metadata": {
  "kernelspec": {
   "display_name": "Python 3",
   "language": "python",
   "name": "python3"
  },
  "language_info": {
   "codemirror_mode": {
    "name": "ipython",
    "version": 3
   },
   "file_extension": ".py",
   "mimetype": "text/x-python",
   "name": "python",
   "nbconvert_exporter": "python",
   "pygments_lexer": "ipython3",
   "version": "3.8.3"
  }
 },
 "nbformat": 4,
 "nbformat_minor": 4
}
