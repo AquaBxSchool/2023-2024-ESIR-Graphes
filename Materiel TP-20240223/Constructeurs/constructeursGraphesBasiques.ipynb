{
 "cells": [
  {
   "cell_type": "code",
   "execution_count": 1,
   "metadata": {},
   "outputs": [],
   "source": [
    "# --- anneaux (non dirigés)\n",
    "\n",
    "def A(n):\n",
    "    \"\"\" on fabrique un anneau (non dirigé) de taille n >= 3\n",
    "    \"\"\"\n",
    "    A = [ [x,x+2]  for x in range(n-2) ]\n",
    "    A.insert(0,[1,n-1])\n",
    "    A.append([0,n-2])\n",
    "    return A    "
   ]
  },
  {
   "cell_type": "code",
   "execution_count": 2,
   "metadata": {},
   "outputs": [
    {
     "name": "stdout",
     "output_type": "stream",
     "text": [
      "[[1, 4], [0, 2], [1, 3], [2, 4], [0, 3]]\n"
     ]
    }
   ],
   "source": [
    "print(A(5))"
   ]
  },
  {
   "cell_type": "code",
   "execution_count": 3,
   "metadata": {},
   "outputs": [
    {
     "name": "stdout",
     "output_type": "stream",
     "text": [
      "[[1, 2], [0, 2], [0, 1]]\n"
     ]
    }
   ],
   "source": [
    "print(A(3))"
   ]
  },
  {
   "cell_type": "code",
   "execution_count": 4,
   "metadata": {},
   "outputs": [],
   "source": [
    "# --- roues (non dirigées)\n",
    "\n",
    "def R(n):\n",
    "    \"\"\" on fabrique une roue avec n sommets\n",
    "    \"\"\"\n",
    "    R = [ [x,x+2]  for x in range(1,n-2) ]\n",
    "    R.insert(0,[2,n-1])\n",
    "    R.append([1,n-2])\n",
    "    R.insert(0,[x for x in range(1,n)])\n",
    "    return R"
   ]
  },
  {
   "cell_type": "code",
   "execution_count": 5,
   "metadata": {},
   "outputs": [
    {
     "name": "stdout",
     "output_type": "stream",
     "text": [
      "[[1, 2], [2, 2], [1, 1]] \n",
      "\n",
      "[[1, 2, 3], [2, 3], [1, 3], [1, 2]] \n",
      "\n",
      "[[1, 2, 3, 4], [2, 4], [1, 3], [2, 4], [1, 3]]\n"
     ]
    }
   ],
   "source": [
    "print(R(3),\"\\n\") ; print(R(4),\"\\n\") ; print(R(5))"
   ]
  },
  {
   "cell_type": "code",
   "execution_count": 6,
   "metadata": {},
   "outputs": [],
   "source": [
    "# --- graphes complets\n",
    "\n",
    "def K(n):\n",
    "    \"\"\" on fabrique un graphe complet avec n >= 2 sommets\n",
    "    \"\"\"\n",
    "    K = [ [x  for x in range(n) if x != y]  for y in range(n) ]\n",
    "    return K"
   ]
  },
  {
   "cell_type": "code",
   "execution_count": 7,
   "metadata": {},
   "outputs": [
    {
     "name": "stdout",
     "output_type": "stream",
     "text": [
      "[[1, 2], [0, 2], [0, 1]] \n",
      "\n",
      "[[1, 2, 3, 4], [0, 2, 3, 4], [0, 1, 3, 4], [0, 1, 2, 4], [0, 1, 2, 3]]\n"
     ]
    }
   ],
   "source": [
    "print(K(3),\"\\n\") ; print(K(5))"
   ]
  }
 ],
 "metadata": {
  "kernelspec": {
   "display_name": "Python 3",
   "language": "python",
   "name": "python3"
  },
  "language_info": {
   "codemirror_mode": {
    "name": "ipython",
    "version": 3
   },
   "file_extension": ".py",
   "mimetype": "text/x-python",
   "name": "python",
   "nbconvert_exporter": "python",
   "pygments_lexer": "ipython3",
   "version": "3.8.3"
  }
 },
 "nbformat": 4,
 "nbformat_minor": 4
}
