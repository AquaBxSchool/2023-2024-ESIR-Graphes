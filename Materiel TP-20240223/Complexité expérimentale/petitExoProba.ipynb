{
 "cells": [
  {
   "cell_type": "markdown",
   "metadata": {},
   "source": [
    "# Petit exercice de probabilités"
   ]
  },
  {
   "cell_type": "markdown",
   "metadata": {},
   "source": [
    "On lance 2 dés. Quelle est la probabilité que les 2 valeures obtenues soient différentes ?\n",
    "\n",
    "La réponse est triviale en probabilité : $30/36 = 0.8\\overline{3} = 0.8333\\ldots$. On va estimer ici la réponse en utilisant la simulation (ou méthode de Monte Carlo)."
   ]
  },
  {
   "cell_type": "markdown",
   "metadata": {},
   "source": [
    "D'abord, un dé électronique."
   ]
  },
  {
   "cell_type": "code",
   "execution_count": 1,
   "metadata": {},
   "outputs": [],
   "source": [
    "def de():\n",
    "    \"\"\" dé électronique \"\"\"\n",
    "    from numpy.random import randint as ri\n",
    "    # --- ri(h,H+1) échantillonne une variable aléatoire entière\n",
    "    #     uniformement distribuée sur {h, h+1, h+2, ..., H}\n",
    "    return ri(1,7)"
   ]
  },
  {
   "cell_type": "markdown",
   "metadata": {},
   "source": [
    "On teste un peu."
   ]
  },
  {
   "cell_type": "code",
   "execution_count": 2,
   "metadata": {},
   "outputs": [
    {
     "name": "stdout",
     "output_type": "stream",
     "text": [
      "2  5  1  5  4  1  5  6  4  1  5  2  1  3  5  3  2  6  2  6  "
     ]
    }
   ],
   "source": [
    "from numpy.random import randint as ri\n",
    "for _ in range(20):\n",
    "    print(ri(1,7),\" \",end=\"\")"
   ]
  },
  {
   "cell_type": "markdown",
   "metadata": {},
   "source": [
    "On lance le dé à nouveau."
   ]
  },
  {
   "cell_type": "code",
   "execution_count": 3,
   "metadata": {},
   "outputs": [
    {
     "name": "stdout",
     "output_type": "stream",
     "text": [
      "4  2  3  5  3  2  2  5  4  2  5  5  2  5  3  5  2  4  6  6  "
     ]
    }
   ],
   "source": [
    "for _ in range(20):\n",
    "    print(ri(1,7),\" \",end=\"\")"
   ]
  },
  {
   "cell_type": "markdown",
   "metadata": {},
   "source": [
    "Maintenant, on lance 2 dés $N$ fois, on compte dans combien de cas les dés montrent des valeurs différentes, et on divise par $N$."
   ]
  },
  {
   "cell_type": "code",
   "execution_count": 4,
   "metadata": {},
   "outputs": [],
   "source": [
    "# Monte Carlo pour le problème posé\n",
    "\n",
    "def estimProba(N):\n",
    "    \"\"\" On estime la proba. d'obtenir 2 valeures différents\n",
    "        lors du lancer de 2 dés indépendants, par Monte Carlo,\n",
    "        à l'aide de N tirages.\n",
    "    \"\"\"\n",
    "    nbDeCasFavorables = 0\n",
    "    for _ in range(N):\n",
    "        d1 = de()\n",
    "        d2 = de()\n",
    "        if d1 != d2:\n",
    "            nbDeCasFavorables += 1\n",
    "    return nbDeCasFavorables/N"
   ]
  },
  {
   "cell_type": "markdown",
   "metadata": {},
   "source": [
    "On estime la proba. demandée avec 1K (1 millier de) tirages."
   ]
  },
  {
   "cell_type": "code",
   "execution_count": 5,
   "metadata": {},
   "outputs": [
    {
     "name": "stdout",
     "output_type": "stream",
     "text": [
      " --- On estime la proba. demandée\n",
      "     en faisant l'expérience 10**3 fois.\n",
      "     Estimation : 0.863\n"
     ]
    }
   ],
   "source": [
    "print(\" --- On estime la proba. demandée\")\n",
    "print(\"     en faisant l'expérience 10**3 fois.\")\n",
    "print(\"     Estimation :\",estimProba(1000))"
   ]
  },
  {
   "cell_type": "code",
   "execution_count": 6,
   "metadata": {},
   "outputs": [
    {
     "name": "stdout",
     "output_type": "stream",
     "text": [
      " --- On estime à nouveau la proba. demandée\n",
      "     toujours avec 10**3 tirages.\n",
      "     Estimation : 0.832\n"
     ]
    }
   ],
   "source": [
    "print(\" --- On estime à nouveau la proba. demandée\")\n",
    "print(\"     toujours avec 10**3 tirages.\")\n",
    "print(\"     Estimation :\",estimProba(1000))"
   ]
  },
  {
   "cell_type": "code",
   "execution_count": null,
   "metadata": {},
   "outputs": [
    {
     "name": "stdout",
     "output_type": "stream",
     "text": [
      " --- On refait mais avec 10**6 tirages.\n",
      "     Estimation : 0.833615\n"
     ]
    }
   ],
   "source": [
    "print(\" --- On refait mais avec 10**6 tirages.\")\n",
    "print(\"     Estimation :\",estimProba(10**6))"
   ]
  }
 ],
 "metadata": {
  "kernelspec": {
   "display_name": "Python 3",
   "language": "python",
   "name": "python3"
  },
  "language_info": {
   "codemirror_mode": {
    "name": "ipython",
    "version": 3
   },
   "file_extension": ".py",
   "mimetype": "text/x-python",
   "name": "python",
   "nbconvert_exporter": "python",
   "pygments_lexer": "ipython3",
   "version": "3.8.3"
  }
 },
 "nbformat": 4,
 "nbformat_minor": 4
}
