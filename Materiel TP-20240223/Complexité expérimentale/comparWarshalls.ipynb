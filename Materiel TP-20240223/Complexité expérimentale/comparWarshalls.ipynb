{
 "cells": [
  {
   "cell_type": "markdown",
   "metadata": {},
   "source": [
    "# Algorithme de Warshall pour chemin minimal : comparaisons"
   ]
  },
  {
   "cell_type": "markdown",
   "metadata": {},
   "source": [
    "On va comparer les performances de 2 versions de l'algorithme de Warshall sur des graphes complets avec poids aléatoires."
   ]
  },
  {
   "cell_type": "markdown",
   "metadata": {},
   "source": [
    "## 1  D'abord, les deux versions de l'algorithme de Warshall"
   ]
  },
  {
   "cell_type": "markdown",
   "metadata": {},
   "source": [
    "Deux fonctions suivent. La première, `WarshallChOptVer1,` avec la version de base, la 2nde `WarshallChOptVer2,` avec une version améliorée."
   ]
  },
  {
   "cell_type": "code",
   "execution_count": 1,
   "metadata": {},
   "outputs": [],
   "source": [
    "# --- version de base\n",
    "def WarshallChOptVer1(W):\n",
    "    \"\"\" Warshall pour chemin min, à partir du graphe valué donné par\n",
    "        la matrice carrée W de dimension n = nb de sommets du graphe.\n",
    "        Un poids infini signifie que l'arc correspondant n'existe pas.\n",
    "        La fonction retourne la matrice W où W[x][y] est la valeur\n",
    "        minimale des chemins de valeur minimale de x à y.\n",
    "        \n",
    "        Version de base.\n",
    "    \"\"\"\n",
    "    inf = float('inf') # --- infini dans les réels\n",
    "    n = len(W) # --- nb de sommets de G\n",
    "\n",
    "    for k in range(n):\n",
    "        for x in range(n):\n",
    "            for y in range(n):\n",
    "                 W[x][y] = min(W[x][y],W[x][k] + W[k][y])\n",
    "    return W\n",
    "\n",
    "\n",
    "# --- version améliorée\n",
    "def WarshallChOptVer2(W):\n",
    "    \"\"\" Warshall pour chemin min, à partir du graphe valué donné par\n",
    "        la matrice carrée W de dimension n = nb de sommets du graphe.\n",
    "        Un poids infini signifie que l'arc correspondant n'existe pas.\n",
    "        La fonction retourne la matrice W où W[x][y] est la valeur\n",
    "        minimale des chemins de valeur minimale de x à y.\n",
    "        \n",
    "        Version améliorée (comparer les 2 codes).\n",
    "    \"\"\"\n",
    "    \n",
    "    inf = float('inf')  # --- infini dans les réels\n",
    "    n = len(W)          # --- nb de sommets de G\n",
    "\n",
    "    for k in range(n):\n",
    "        for x in range(n):\n",
    "            if W[x][k] < inf:      # --- si = inf, inutile continuer\n",
    "                for y in range(n): #     sur cet x \n",
    "                    if W[k][y] < inf:              # si = inf,inutile\n",
    "                        somme = W[x][k] + W[k][y]  # de continuer sur\n",
    "                        if somme < W[x][y]:        # cet y\n",
    "                            W[x][y] = somme\n",
    "    return W\n"
   ]
  },
  {
   "cell_type": "raw",
   "metadata": {},
   "source": [
    "On teste un peu. D'abord sur un premier graphe à 4 sommets."
   ]
  },
  {
   "cell_type": "code",
   "execution_count": 2,
   "metadata": {},
   "outputs": [
    {
     "name": "stdout",
     "output_type": "stream",
     "text": [
      " --- 1er graphe :\n",
      "[inf, 1, 2, inf]\n",
      "[inf, inf, 5, 2]\n",
      "[inf, 3, inf, inf]\n",
      "[inf, inf, 1, inf]\n",
      "\n",
      " Ver. 1 :\n",
      "[inf, 1, 2, 3]\n",
      "[inf, 6, 3, 2]\n",
      "[inf, 3, 6, 5]\n",
      "[inf, 4, 1, 6]\n",
      "\n",
      " Ver. 2 :\n",
      "[inf, 1, 2, 3]\n",
      "[inf, 6, 3, 2]\n",
      "[inf, 3, 6, 5]\n",
      "[inf, 4, 1, 6]\n"
     ]
    }
   ],
   "source": [
    "def ecr(W):\n",
    "    \"\"\" Cette fonction écrit la matrice W ligne par ligne \"\"\"\n",
    "    n = len(W)\n",
    "    for x in range(n):\n",
    "        print(W[x])\n",
    "\n",
    "        \n",
    "inf = float('inf')\n",
    "Wa = [\n",
    "        [inf,   1,   2, inf],\n",
    "        [inf, inf,   5,   2],\n",
    "        [inf,   3, inf, inf],\n",
    "        [inf, inf,   1, inf]\n",
    "    ]\n",
    "\n",
    "print(\" --- 1er graphe :\")\n",
    "ecr(Wa)\n",
    "\n",
    "Wa1 = Wa.copy()\n",
    "WarshallChOptVer1(Wa1)\n",
    "print(\"\\n Ver. 1 :\")\n",
    "ecr(Wa1)\n",
    "\n",
    "Wa2 = Wa.copy()\n",
    "print(\"\\n Ver. 2 :\")\n",
    "WarshallChOptVer1(Wa2)\n",
    "ecr(Wa2)"
   ]
  },
  {
   "cell_type": "markdown",
   "metadata": {},
   "source": [
    "On teste maintenant avec un graphe à 6 sommets."
   ]
  },
  {
   "cell_type": "code",
   "execution_count": 3,
   "metadata": {},
   "outputs": [
    {
     "name": "stdout",
     "output_type": "stream",
     "text": [
      " --- 2ème graphe :\n",
      "[inf, 1, 1, 4, inf, 8]\n",
      "[inf, inf, inf, 2, inf, inf]\n",
      "[inf, inf, inf, 3, inf, 8]\n",
      "[inf, inf, inf, inf, inf, 5]\n",
      "[inf, 2, inf, inf, inf, 1]\n",
      "[inf, inf, inf, inf, inf, inf]\n",
      "\n",
      " Ver. 1 :\n",
      "[inf, 1, 1, 3, inf, 8]\n",
      "[inf, inf, inf, 2, inf, 7]\n",
      "[inf, inf, inf, 3, inf, 8]\n",
      "[inf, inf, inf, inf, inf, 5]\n",
      "[inf, 2, inf, 4, inf, 1]\n",
      "[inf, inf, inf, inf, inf, inf]\n",
      "\n",
      " Ver. 2 :\n",
      "[inf, 1, 1, 3, inf, 8]\n",
      "[inf, inf, inf, 2, inf, 7]\n",
      "[inf, inf, inf, 3, inf, 8]\n",
      "[inf, inf, inf, inf, inf, 5]\n",
      "[inf, 2, inf, 4, inf, 1]\n",
      "[inf, inf, inf, inf, inf, inf]\n"
     ]
    }
   ],
   "source": [
    "Wb = [\n",
    "        [inf,   1,   1,   4, inf,   8],\n",
    "        [inf, inf, inf,   2, inf, inf],\n",
    "        [inf, inf, inf,   3, inf,   8],\n",
    "        [inf, inf, inf, inf, inf,   5],\n",
    "        [inf,   2, inf, inf, inf,   1],\n",
    "        [inf, inf, inf, inf, inf, inf]\n",
    "    ]\n",
    "\n",
    "print(\" --- 2ème graphe :\")\n",
    "ecr(Wb)\n",
    "\n",
    "Wb1 = Wb.copy()\n",
    "WarshallChOptVer1(Wb1)\n",
    "print(\"\\n Ver. 1 :\")\n",
    "ecr(Wb1)\n",
    "\n",
    "Wb2 = Wb.copy()\n",
    "print(\"\\n Ver. 2 :\")\n",
    "WarshallChOptVer1(Wb2)\n",
    "ecr(Wb2)"
   ]
  },
  {
   "cell_type": "markdown",
   "metadata": {},
   "source": [
    "## 2  Création de graphes complets avec poids aléatoires"
   ]
  },
  {
   "cell_type": "markdown",
   "metadata": {},
   "source": [
    "La fonction `creerKvalue()` crée un graphe complet avec poids entiers aléatoires. On passe le nombre de sommets $n \\geq 2$ et un entier $H \\geq 1$ et les poids sont tirés uniformément sur l'ensemble $\\{ 1, 2, \\ldots, H \\}$."
   ]
  },
  {
   "cell_type": "code",
   "execution_count": 4,
   "metadata": {},
   "outputs": [],
   "source": [
    "def creerKvalue(n,H):\n",
    "    \"\"\" construit un graphe complet avec n >= 2 sommets, valué,\n",
    "        avec poids tirés uniformément dans {1,2,...,H} ;\n",
    "        la fonction retourne la matrice n * n des poids\n",
    "    \"\"\"\n",
    "    from numpy.random import randint as ri\n",
    "    \n",
    "    inf = float('inf')\n",
    "    \n",
    "    # --- on remplit W avec inf\n",
    "    W = [ [inf for _ in range(n)] for _ in range(n) ]\n",
    "    \n",
    "    for x in range(n):\n",
    "        for y in range(x+1,n):\n",
    "            v = ri(1,H+1)\n",
    "            W[x][y] = v\n",
    "            W[y][x] = v\n",
    "\n",
    "    return W"
   ]
  },
  {
   "cell_type": "markdown",
   "metadata": {},
   "source": [
    "On teste sur quelques graphes."
   ]
  },
  {
   "cell_type": "raw",
   "metadata": {},
   "source": [
    "print(\" --- Tests\")\n",
    "print(\" --- On construit 4 graphes K3 avec poids uniformes dans {1,2,...,10}\")\n",
    "for _ in range(4): # on regarde la création de 4 complets avec 3 sommets\n",
    "    W = creerKvalue(3,10)\n",
    "    print(\"\")\n",
    "    ecr(W)"
   ]
  },
  {
   "cell_type": "markdown",
   "metadata": {},
   "source": [
    "## Comparaison des performances des deux versions de Warshall sur des graphes complets avec poids aléatoires"
   ]
  },
  {
   "cell_type": "markdown",
   "metadata": {},
   "source": [
    "On va comparer les performances des deux versions de Warshall sur des graphes complets avec poids aléatoires."
   ]
  },
  {
   "cell_type": "code",
   "execution_count": 5,
   "metadata": {},
   "outputs": [],
   "source": [
    "def comparWarshall(n1,n2,H,r):\n",
    "    \"\"\" On compare les deux mises en oeuvre de Warshall décrites plus haut\n",
    "        sur des graphes complets de n sommets, n allant de n1 à n2, avec\n",
    "        poids entiers tirés aléatoirement entre 1 et H.\n",
    "        Chaque exécution de Warshall est répétée à l'identique r fois.\n",
    "    \"\"\"\n",
    "    from timeit import default_timer as timer\n",
    "    \n",
    "    resulVer1 = []\n",
    "    resulVer2 = []\n",
    "    \n",
    "    for n in range(n1,n2+1):\n",
    "        \n",
    "        W = creerKvalue(n,H)\n",
    "        \n",
    "        t0 = timer()\n",
    "        for _ in range(r): # on refait r fois\n",
    "            WW = list(W)\n",
    "            WarshallChOptVer1(WW) \n",
    "        delta = timer() - t0\n",
    "        resulVer1.append(delta)\n",
    "\n",
    "        t0 = timer()\n",
    "        for _ in range(r): # on refait r fois\n",
    "            WW = list(W)\n",
    "            WarshallChOptVer2(WW)\n",
    "        delta = timer() - t0\n",
    "        resulVer2.append(delta)\n",
    "     \n",
    "    return resulVer1,resulVer2"
   ]
  },
  {
   "cell_type": "markdown",
   "metadata": {},
   "source": [
    "On remarquera que dans le temps d'exécution on a inclut la copie de la matrice `W`. Ceci dit, d'une part, elle est la même pour les deux algos, et, d'autre part, la complexité de la copie, pour $n$ sommets, est $O(n^2)$ ; Warshall (les deux versions) est en $O(n^3)$."
   ]
  },
  {
   "cell_type": "markdown",
   "metadata": {},
   "source": [
    "On teste sur des graphes de taille modérée."
   ]
  },
  {
   "cell_type": "code",
   "execution_count": 6,
   "metadata": {},
   "outputs": [],
   "source": [
    "n1 = 10\n",
    "n2 = 20\n",
    "H = 10\n",
    "r = 100\n",
    "res1,res2 = comparWarshall(n1,n2,H,r)"
   ]
  },
  {
   "cell_type": "code",
   "execution_count": 7,
   "metadata": {},
   "outputs": [
    {
     "name": "stdout",
     "output_type": "stream",
     "text": [
      "\n",
      " --- Ver de base:\n",
      "10 0.02830717199999999\n",
      "11 0.03600769000000004\n",
      "12 0.042560229000000005\n",
      "13 0.05639691899999999\n",
      "14 0.07181414200000003\n",
      "15 0.08309935700000004\n",
      "16 0.10505880099999998\n",
      "17 0.13103181500000005\n",
      "18 0.164975879\n",
      "19 0.16310530199999995\n",
      "20 0.192057111\n",
      "\n",
      " --- Ver améliorée:\n",
      "10 0.02046169100000006\n",
      "11 0.025228735000000002\n",
      "12 0.03319375299999994\n",
      "13 0.04389583600000013\n",
      "14 0.05270144500000007\n",
      "15 0.05981039900000007\n",
      "16 0.07834115100000005\n",
      "17 0.08881398600000012\n",
      "18 0.11197030000000008\n",
      "19 0.12336311200000027\n",
      "20 0.13976126199999994\n"
     ]
    }
   ],
   "source": [
    "# --- on regarde les valeurs des temps d'exécution\n",
    "print(\"\\n --- Ver de base:\")\n",
    "for n in range(n1,n2+1):\n",
    "    print(n,res1[n-n1])\n",
    "print(\"\\n --- Ver améliorée:\")\n",
    "for n in range(n1,n2+1):\n",
    "    print(n,res2[n-n1])"
   ]
  },
  {
   "cell_type": "markdown",
   "metadata": {},
   "source": [
    "Maintenant on fait la comparaison sur K10, K11, ..., K30."
   ]
  },
  {
   "cell_type": "code",
   "execution_count": 8,
   "metadata": {},
   "outputs": [
    {
     "data": {
      "image/png": "[encoded data removed]",
      "text/plain": [
       "<Figure size 432x288 with 1 Axes>"
      ]
     },
     "metadata": {
      "needs_background": "light"
     },
     "output_type": "display_data"
    }
   ],
   "source": [
    "n1 = 10 # --- à partir de n1 sommets\n",
    "n2 = 30 #     jusqu'à n2 sommets\n",
    "H = 10  # --- poids entiers unif. sur {1,2,...,10}\n",
    "r = 200 # --- on refait les calculs 200 fois\n",
    "\n",
    "res1,res2 = comparWarshall(n1,n2,H,r)\n",
    "\n",
    "import matplotlib.pyplot as plt\n",
    "\n",
    "x = [n for n in range(n1,n2+1)]\n",
    "plt.scatter(x, res1, c = 'blue',label = \"ver de base\")\n",
    "plt.scatter(x, res2, c = 'red',label = \"ver améliorée\")\n",
    "plt.legend()\n",
    "plt.title(\"Temps d'exéc. Warshall, 2 versions, Kn, en fct de n\")\n",
    "plt.show()"
   ]
  },
  {
   "cell_type": "markdown",
   "metadata": {},
   "source": [
    "On refait une comparaison mais de 90 à 100 sommets."
   ]
  },
  {
   "cell_type": "code",
   "execution_count": 9,
   "metadata": {},
   "outputs": [
    {
     "data": {
      "image/png": "[encoded data removed]",
      "text/plain": [
       "<Figure size 432x288 with 1 Axes>"
      ]
     },
     "metadata": {
      "needs_background": "light"
     },
     "output_type": "display_data"
    }
   ],
   "source": [
    "n1 = 90\n",
    "n2 = 100\n",
    "H = 10\n",
    "r = 50  # --- plus petit qu'avant, pour réduire la durée\n",
    "        #     du test\n",
    "\n",
    "res1,res2 = comparWarshall(n1,n2,H,r)\n",
    "x = [n for n in range(n1,n2+1)]\n",
    "plt.scatter(x, res1, c = 'blue',label = \"ver de base\")\n",
    "plt.scatter(x, res2, c = 'red',label = \"ver améliorée\")\n",
    "plt.legend()\n",
    "plt.title(\"Temps d'exéc. Warshall, 2 versions, Kn, en fct de n\")\n",
    "plt.show()"
   ]
  }
 ],
 "metadata": {
  "kernelspec": {
   "display_name": "Python 3",
   "language": "python",
   "name": "python3"
  },
  "language_info": {
   "codemirror_mode": {
    "name": "ipython",
    "version": 3
   },
   "file_extension": ".py",
   "mimetype": "text/x-python",
   "name": "python",
   "nbconvert_exporter": "python",
   "pygments_lexer": "ipython3",
   "version": "3.8.3"
  }
 },
 "nbformat": 4,
 "nbformat_minor": 4
}
