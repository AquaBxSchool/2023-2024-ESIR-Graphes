{
 "cells": [
  {
   "cell_type": "markdown",
   "metadata": {},
   "source": [
    "# Complexité expérimentale : un exemple"
   ]
  },
  {
   "cell_type": "markdown",
   "metadata": {},
   "source": [
    "En `python` les entiers sont de taille quelconque (non bornée). On va mesurer le temps nécessaire pour effectuer des sommes et des produits d'entiers, avec des nombres de taille variable, et afficher les temps d'exécution relatifs en fonction de leur tailles (mésurées par le nombre de digits en base 10).\n",
    "\n",
    "On réalise ceci dans une fonction `test(N,repeat)` où l'on fait varier le nombre de chiffres de deux entiers `x` et `y` de `6` chiffres à `N` chiffres. On répète la somme et le produit de `x` et `y` un grand nombre de fois de fois, le nombre de répétitions étant le paramètre `repet` de la fonction, pour gommer les légères différences en temps et améliorer la précision de la mesure. On met les temps de calcul dans deux listes, `somme` et `produit`, pour les représenter graphiquement à la fin."
   ]
  },
  {
   "cell_type": "code",
   "execution_count": 1,
   "metadata": {},
   "outputs": [],
   "source": [
    "def test(N,repet):\n",
    "    from timeit import default_timer as timer\n",
    "    \n",
    "    c = 6 # --- on va commencer avec des nombres de 6 chiffres\n",
    "    x = 123456  # --- 2 entiers x et y\n",
    "    y = 987654  #     de 6 chiffres\n",
    "    somme = []\n",
    "    produit = []\n",
    "    #\n",
    "    for n in range(6,N + 1): # --- on va varier le nombre de chiffres\n",
    "                             #     de 6 à N\n",
    "        t0 = timer()\n",
    "        for h in range(repet): # --- on refait repet fois\n",
    "            z = x + y\n",
    "        delta = timer() - t0\n",
    "        somme.append(delta)\n",
    "        #\n",
    "        t0 = timer()\n",
    "        for h in range(repet): # --- on refait repet fois\n",
    "            z = x*y\n",
    "        delta = timer() - t0\n",
    "        produit.append(delta)\n",
    "        #\n",
    "        x = 10*x + 1  # --- x et y ont un\n",
    "        y = 10*y + 1  #     chiffre de plus\n",
    "    return somme,produit"
   ]
  },
  {
   "cell_type": "markdown",
   "metadata": {},
   "source": [
    "Dans ce qui suit, on va mesurer le temps de d'exécution de $r = 10^3$ opérations (identiques) avec chaque paire de valeurs pour `x` et `y`, dont le nombre de chiffres va varier de 6 à $N = 100$."
   ]
  },
  {
   "cell_type": "code",
   "execution_count": 2,
   "metadata": {},
   "outputs": [],
   "source": [
    "N = 100\n",
    "r = 1000\n",
    "s,p = test(N,r)"
   ]
  },
  {
   "cell_type": "code",
   "execution_count": 3,
   "metadata": {},
   "outputs": [
    {
     "name": "stdout",
     "output_type": "stream",
     "text": [
      "\n",
      "Pour la somme (n et temps d'exéc. pour n chiffres) :\n",
      "\n",
      "N \t     temps en secs\n",
      "-------------------------------\n",
      "6 \t 4.814400000008323e-05\n",
      "7 \t 4.733300000003826e-05\n",
      "8 \t 4.8588000000071574e-05\n",
      "9 \t 4.787699999997397e-05\n",
      "10 \t 4.988599999999899e-05\n",
      "11 \t 5.012199999998579e-05\n",
      "12 \t 5.00549999999933e-05\n",
      "13 \t 4.952200000007956e-05\n",
      "14 \t 4.9509000000003134e-05\n",
      "15 \t 4.9441000000038926e-05\n",
      "16 \t 4.957499999991288e-05\n",
      "17 \t 4.940700000000131e-05\n",
      "18 \t 4.915800000004911e-05\n",
      "19 \t 5.050799999994915e-05\n",
      "20 \t 5.0258999999996945e-05\n",
      "21 \t 5.024599999992052e-05\n",
      "22 \t 5.0127000000066424e-05\n",
      "23 \t 5.060400000000964e-05\n",
      "24 \t 5.0289000000036665e-05\n",
      "25 \t 5.147000000005342e-05\n",
      "26 \t 5.014400000002972e-05\n",
      "27 \t 5.0075000000093794e-05\n",
      "28 \t 5.9687000000030466e-05\n",
      "29 \t 5.176500000003692e-05\n",
      "30 \t 5.2205999999999086e-05\n",
      "31 \t 5.0862000000040375e-05\n",
      "32 \t 5.0651999999984376e-05\n",
      "33 \t 5.084999999993567e-05\n",
      "34 \t 5.1307000000000436e-05\n",
      "35 \t 5.056700000005687e-05\n",
      "36 \t 5.116100000002177e-05\n",
      "37 \t 5.0935999999945913e-05\n",
      "38 \t 5.1993000000027934e-05\n",
      "39 \t 5.295000000005157e-05\n",
      "40 \t 5.199600000005411e-05\n",
      "41 \t 5.132499999993545e-05\n",
      "42 \t 5.1432999999989626e-05\n",
      "43 \t 5.22829999999308e-05\n",
      "44 \t 5.17640000000652e-05\n",
      "45 \t 5.255999999997929e-05\n",
      "46 \t 5.3744999999993937e-05\n",
      "47 \t 5.541600000003033e-05\n",
      "48 \t 5.343499999999057e-05\n",
      "49 \t 5.374400000002222e-05\n",
      "50 \t 5.3272000000048614e-05\n",
      "51 \t 5.456599999997813e-05\n",
      "52 \t 5.402600000004032e-05\n",
      "53 \t 5.270800000001241e-05\n",
      "54 \t 5.354800000001436e-05\n",
      "55 \t 5.460499999998536e-05\n",
      "56 \t 5.4029000000066496e-05\n",
      "57 \t 5.4274999999992524e-05\n",
      "58 \t 5.491600000007146e-05\n",
      "59 \t 5.4038000000034e-05\n",
      "60 \t 7.005199999998712e-05\n",
      "61 \t 5.408299999998256e-05\n",
      "62 \t 5.36509999999879e-05\n",
      "63 \t 5.445800000003498e-05\n",
      "64 \t 5.533999999995931e-05\n",
      "65 \t 5.504300000003237e-05\n",
      "66 \t 5.5731000000003306e-05\n",
      "67 \t 5.650000000001487e-05\n",
      "68 \t 5.571299999995727e-05\n",
      "69 \t 5.5387999999934046e-05\n",
      "70 \t 5.8809999999964724e-05\n",
      "71 \t 5.547299999997257e-05\n",
      "72 \t 5.6774000000037184e-05\n",
      "73 \t 0.00016194300000005324\n",
      "74 \t 5.714199999995451e-05\n",
      "75 \t 6.152900000000461e-05\n",
      "76 \t 5.9048000000005985e-05\n",
      "77 \t 5.571900000000962e-05\n",
      "78 \t 5.57019999999353e-05\n",
      "79 \t 5.66699999999809e-05\n",
      "80 \t 5.5978000000012074e-05\n",
      "81 \t 5.8149000000007334e-05\n",
      "82 \t 5.842000000000347e-05\n",
      "83 \t 5.7776000000009375e-05\n",
      "84 \t 5.631500000002898e-05\n",
      "85 \t 5.533799999990485e-05\n",
      "86 \t 5.545200000001138e-05\n",
      "87 \t 5.484300000002662e-05\n",
      "88 \t 5.647100000005789e-05\n",
      "89 \t 5.5084999999954753e-05\n",
      "90 \t 5.500599999996858e-05\n",
      "91 \t 5.566700000003699e-05\n",
      "92 \t 5.551999999997559e-05\n",
      "93 \t 5.524999999995117e-05\n",
      "94 \t 5.572499999995095e-05\n",
      "95 \t 5.527999999999089e-05\n",
      "96 \t 5.545200000001138e-05\n",
      "97 \t 5.676700000001311e-05\n",
      "98 \t 5.471399999990023e-05\n",
      "99 \t 5.478100000000374e-05\n",
      "100 \t 5.6692000000024834e-05\n"
     ]
    }
   ],
   "source": [
    "# --- on imprime les temps d'exécution pour la somme\n",
    "print(\"\\nPour la somme (n et temps d'exéc. pour n chiffres) :\\n\")\n",
    "print(\"N \\t     temps en secs\")\n",
    "print(\"-------------------------------\")\n",
    "for n in range(6,N+1):\n",
    "    print(n,\"\\t\",s[n-6])"
   ]
  },
  {
   "cell_type": "code",
   "execution_count": 4,
   "metadata": {},
   "outputs": [
    {
     "name": "stdout",
     "output_type": "stream",
     "text": [
      "\n",
      "Pour le produit (n et temps d'exéc. pour n chiffres) :\n",
      "\n",
      "N \t     temps en secs\n",
      "-------------------------------\n",
      "6 \t 4.9151999999996754e-05\n",
      "7 \t 4.8949999999936544e-05\n",
      "8 \t 5.246199999997536e-05\n",
      "9 \t 5.1261999999940855e-05\n",
      "10 \t 7.046899999996192e-05\n",
      "11 \t 7.150599999994345e-05\n",
      "12 \t 7.025699999996249e-05\n",
      "13 \t 6.986900000005569e-05\n",
      "14 \t 6.993000000010685e-05\n",
      "15 \t 6.964800000008875e-05\n",
      "16 \t 6.995599999992663e-05\n",
      "17 \t 7.000999999995372e-05\n",
      "18 \t 6.961999999999247e-05\n",
      "19 \t 7.936600000002514e-05\n",
      "20 \t 8.026800000004997e-05\n",
      "21 \t 8.004999999999818e-05\n",
      "22 \t 8.002000000006948e-05\n",
      "23 \t 7.982900000003124e-05\n",
      "24 \t 8.081399999992911e-05\n",
      "25 \t 8.010000000002737e-05\n",
      "26 \t 8.001199999996267e-05\n",
      "27 \t 8.025200000005839e-05\n",
      "28 \t 8.422899999993572e-05\n",
      "29 \t 9.180799999997102e-05\n",
      "30 \t 9.206100000003214e-05\n",
      "31 \t 9.185099999997615e-05\n",
      "32 \t 9.197699999996534e-05\n",
      "33 \t 9.210500000000899e-05\n",
      "34 \t 9.239999999999249e-05\n",
      "35 \t 9.221999999997621e-05\n",
      "36 \t 9.135999999998479e-05\n",
      "37 \t 9.611999999992182e-05\n",
      "38 \t 0.00011171700000001117\n",
      "39 \t 0.00010742200000002367\n",
      "40 \t 0.00010732700000004591\n",
      "41 \t 0.00010741300000005616\n",
      "42 \t 0.00010717600000009764\n",
      "43 \t 0.00010846700000000098\n",
      "44 \t 0.000108152000000028\n",
      "45 \t 0.0001088800000000889\n",
      "46 \t 0.00024501499999995957\n",
      "47 \t 0.0001194150000000116\n",
      "48 \t 0.00011883800000000999\n",
      "49 \t 0.00011896599999994262\n",
      "50 \t 0.00011919600000009911\n",
      "51 \t 0.00012022600000005657\n",
      "52 \t 0.00011898299999990591\n",
      "53 \t 0.00011945899999998844\n",
      "54 \t 0.00011900899999994774\n",
      "55 \t 0.0001321100000000186\n",
      "56 \t 0.00014490000000000336\n",
      "57 \t 0.00014313500000007195\n",
      "58 \t 0.00014234000000001856\n",
      "59 \t 0.00014240299999990214\n",
      "60 \t 0.00014450499999996147\n",
      "61 \t 0.00014490799999999915\n",
      "62 \t 0.000143866000000048\n",
      "63 \t 0.00014244799999996172\n",
      "64 \t 0.0001491290000000811\n",
      "65 \t 0.00016855500000001467\n",
      "66 \t 0.0001666629999999003\n",
      "67 \t 0.00016687800000003694\n",
      "68 \t 0.00016753099999999854\n",
      "69 \t 0.0001626700000000314\n",
      "70 \t 0.00016251299999991975\n",
      "71 \t 0.00015996000000007005\n",
      "72 \t 0.00015957499999996738\n",
      "73 \t 0.00016782599999998205\n",
      "74 \t 0.00021252999999998856\n",
      "75 \t 0.0002115580000000561\n",
      "76 \t 0.00018870500000001122\n",
      "77 \t 0.0001880300000000057\n",
      "78 \t 0.00018839000000003825\n",
      "79 \t 0.00018170799999994713\n",
      "80 \t 0.00018450100000000358\n",
      "81 \t 0.00018406299999995657\n",
      "82 \t 0.00019076000000006754\n",
      "83 \t 0.00021449200000001056\n",
      "84 \t 0.00021452599999993716\n",
      "85 \t 0.00021799800000010805\n",
      "86 \t 0.00020785000000000942\n",
      "87 \t 0.00020599100000007198\n",
      "88 \t 0.0002056430000000331\n",
      "89 \t 0.00021472000000000158\n",
      "90 \t 0.0002045739999999574\n",
      "91 \t 0.00021269800000001116\n",
      "92 \t 0.00023534499999999792\n",
      "93 \t 0.00024508999999994785\n",
      "94 \t 0.00023345800000007522\n",
      "95 \t 0.0002329739999999969\n",
      "96 \t 0.00028513200000002126\n",
      "97 \t 0.0002399509999999605\n",
      "98 \t 0.00023261699999999053\n",
      "99 \t 0.00024074000000007256\n",
      "100 \t 0.000224771000000068\n"
     ]
    }
   ],
   "source": [
    "# --- on imprime les temps d'exécution pour le produit\n",
    "print(\"\\nPour le produit (n et temps d'exéc. pour n chiffres) :\\n\")\n",
    "print(\"N \\t     temps en secs\")\n",
    "print(\"-------------------------------\")\n",
    "for n in range(6,N+1):\n",
    "    print(n,\"\\t\",p[n-6])"
   ]
  },
  {
   "cell_type": "markdown",
   "metadata": {},
   "source": [
    "On affiche maintenant les résultats dans deux courbes."
   ]
  },
  {
   "cell_type": "code",
   "execution_count": 5,
   "metadata": {},
   "outputs": [
    {
     "data": {
      "image/png": "[encoded data removed]",
      "text/plain": [
       "<Figure size 432x288 with 1 Axes>"
      ]
     },
     "metadata": {
      "needs_background": "light"
     },
     "output_type": "display_data"
    }
   ],
   "source": [
    "import matplotlib.pyplot as plt\n",
    "x = [n for n in range(6,N+1)]\n",
    "plt.scatter(x, s, c = 'blue',label = \"somme\")\n",
    "plt.scatter(x, p, c = 'red',label = \"produit\")\n",
    "plt.legend()\n",
    "plt.title(\"Temps d'exéc. somme et produit de 2 entiers en fct de leurs nombres de chiffres\")\n",
    "plt.show()"
   ]
  },
  {
   "cell_type": "markdown",
   "metadata": {},
   "source": [
    "On refait mais en répétant $10^6$ fois les opérations (sans imprimer les listes, maintenant)."
   ]
  },
  {
   "cell_type": "code",
   "execution_count": 6,
   "metadata": {},
   "outputs": [
    {
     "data": {
      "image/png": "[encoded data removed]",
      "text/plain": [
       "<Figure size 432x288 with 1 Axes>"
      ]
     },
     "metadata": {
      "needs_background": "light"
     },
     "output_type": "display_data"
    }
   ],
   "source": [
    "N = 100\n",
    "r = 1000000\n",
    "s,p = test(N,r)\n",
    "\n",
    "import matplotlib.pyplot as plt\n",
    "\n",
    "x = [n for n in range(6,N+1)]\n",
    "plt.scatter(x, s, c = 'blue',label = \"somme\")\n",
    "plt.scatter(x, p, c = 'red',label = \"produit\")\n",
    "plt.legend()\n",
    "plt.title(\"Temps d'exéc. somme et produit de 2 entiers en fct de leurs nombres de chiffres\")\n",
    "plt.show()"
   ]
  }
 ],
 "metadata": {
  "kernelspec": {
   "display_name": "Python 3",
   "language": "python",
   "name": "python3"
  },
  "language_info": {
   "codemirror_mode": {
    "name": "ipython",
    "version": 3
   },
   "file_extension": ".py",
   "mimetype": "text/x-python",
   "name": "python",
   "nbconvert_exporter": "python",
   "pygments_lexer": "ipython3",
   "version": "3.8.3"
  }
 },
 "nbformat": 4,
 "nbformat_minor": 4
}
