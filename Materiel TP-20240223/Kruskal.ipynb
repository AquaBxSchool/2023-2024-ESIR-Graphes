{
 "cells": [
  {
   "cell_type": "markdown",
   "id": "6fc30e43",
   "metadata": {},
   "source": [
    "### Algorithme de Kruskal\n",
    "\n",
    "AG - 2022-23\n",
    "\n",
    "\n",
    "Le code implémente l'algorithme de Kruskal pour trouver l'arbre couvrant de poids minimum dans un graphe non orienté donné. \n",
    "\n",
    "Le code est divisé en deux parties : la première partie définit une fonction qui génère la liste des arêtes triées par ordre croissant de poids et la deuxième partie définit la fonction Kruskal pour implémenter l'algorithme."
   ]
  },
  {
   "cell_type": "code",
   "execution_count": 1,
   "id": "4254debc",
   "metadata": {},
   "outputs": [],
   "source": [
    "def listeAretes(G, w):\n",
    "    \"\"\"\n",
    "    Cette fonction retourne la liste des arêtes du graphe non orienté G triée par poids croissants. \n",
    "    Chaque élément de la liste est une arête donnée par ses extrémités, suivies par le poids de l'arête.\n",
    "\n",
    "    :param G: une liste d'adjacence représentant un graphe non orienté.\n",
    "    :param w: une matrice des poids associés à chaque arête du graphe G.\n",
    "    :return: la liste des arêtes du graphe non orienté G triée par poids croissants.\n",
    "\n",
    "    \"\"\"\n",
    "    # obtenir le nombre de sommets dans le graphe G\n",
    "    n = len(G)\n",
    "    # initialiser une liste pour stocker les arêtes triées par poids croissants\n",
    "    liste = []\n",
    "    # parcourir tous les sommets dans le graphe G\n",
    "    for u in range(n):\n",
    "        # parcourir tous les voisins du sommet u\n",
    "        for j in range(len(G[u])):\n",
    "            # obtenir le voisin v de u et le poids associé à l'arête (u, v)\n",
    "            v = G[u][j]\n",
    "            poids = w[u][j]\n",
    "            # vérifier si l'arête (u, v) a été déjà ajoutée ou pas\n",
    "            if u < v:\n",
    "                # ajouter l'arête (u, v) avec son poids à la liste\n",
    "                liste.append([u, v, poids])\n",
    "    # trier la liste des arêtes par poids croissants\n",
    "    return sorted(liste, key=lambda x: x[2])"
   ]
  },
  {
   "cell_type": "code",
   "execution_count": 2,
   "id": "9e913f53",
   "metadata": {},
   "outputs": [],
   "source": [
    "def Kruskal(G,w):\n",
    "    \"\"\" Implémente l'algorithme de Kruskal pour trouver un arbre couvrant minimum\n",
    "        dans un graphe non orienté pondéré.\n",
    "        \n",
    "        Args:\n",
    "        G (list): une liste d'adjacence représentant les sommets et les arêtes du graphe\n",
    "        w (list): une liste représentant les poids des arêtes\n",
    "        \n",
    "        Returns:\n",
    "        La somme des poids des arêtes de l'arbre couvrant minimum.\n",
    "    \"\"\"\n",
    "    \n",
    "    n = len(G)\n",
    "    liste = listeAretes(G,w) # On récupère la liste triée des arêtes du graphe\n",
    "    \n",
    "    # Initialisation des variables\n",
    "    u1 = liste[0][0] # On prend la première arête de la liste triée\n",
    "    v1 = liste[0][1]\n",
    "    val = liste[0][2]\n",
    "    ind = 0\n",
    "    mark = [-1 for _ in range(n)] # On initialise la liste des classes des sommets\n",
    "    \n",
    "    F = [ [u1,1], [v1,1] ] # On initialise la forêt avec les deux premiers sommets de la première arête\n",
    "    classMax = 1\n",
    "    nbAretes = 1\n",
    "    mark[u1] = 1\n",
    "    mark[v1] = 1\n",
    "    aretes = [ [u1,v1] ]\n",
    "    \n",
    "    while nbAretes < n - 1:\n",
    "        # On sélectionne l'arête suivante dans la liste des arêtes triées par ordre croissant des poids\n",
    "        ind += 1\n",
    "        u = liste[ind][0]\n",
    "        v = liste[ind][1]\n",
    "        poids = liste[ind][2]\n",
    "\n",
    "        # Si l'un des deux sommets u ou v est déjà dans une classe, et que l'autre ne l'est pas encore\n",
    "        if mark[u] != -1 and mark[v] == -1:\n",
    "            c = mark[u] # On récupère la classe de u\n",
    "            mark[v] = c # On affecte la même classe à v\n",
    "            val += poids # On met à jour la valeur du poids total\n",
    "            F.append([v,c]) # On ajoute le sommet v à la classe c dans la forêt\n",
    "            aretes.append([u,v]); nbAretes += 1 # On ajoute l'arête (u,v) à la liste des arêtes sélectionnées\n",
    "       \n",
    "        elif mark[u] == -1 and mark[v] != -1:\n",
    "            c = mark[v] # On récupère la classe de v\n",
    "            mark[u] = c\n",
    "            val += poids \n",
    "            F.append([u,c])\n",
    "            aretes.append([u,v]); nbAretes += 1 \n",
    "       \n",
    "        # Si aucun des deux sommets u et v n'est encore dans une classe\n",
    "        elif mark[u] == -1 and mark[v] == -1:\n",
    "            classMax += 1 # On crée une nouvelle classe\n",
    "            mark[u] = classMax # On affecte la nouvelle classe à u\n",
    "            mark[v] = classMax\n",
    "            val += poids \n",
    "            F.append([u,classMax]) # On crée une nouvelle classe contenant le sommet u dans la forêt\n",
    "            F.append([v,classMax])\n",
    "            aretes.append([u,v]); nbAretes += 1 \n",
    "       \n",
    "        # Si les deux sommets u et v sont déjà dans des classes différentes\n",
    "        elif mark[u] != -1 and mark[v] != -1 and mark[u] != mark[v]:\n",
    "            # On fusionne les deux classes en gardant le numéro de classe le plus petit\n",
    "            c = mark[u]; d = mark[v]\n",
    "            if c < d:\n",
    "                # On met à jour toutes les occurences de la classe d dans la forêt par la classe c\n",
    "                for x in range(len(F)):\n",
    "                    if F[x][1] == d: F[x][1] = c\n",
    "            else: # c > d\n",
    "                # On met à jour toutes les occurences de la classe c dans la forêt par la classe d\n",
    "                for x in range(len(F)):\n",
    "                    if F[x][1] == c: F[x][1] = d\n",
    "            val += poids # On met à jour la valeur du poids total\n",
    "            aretes.append([u,v]); nbAretes += 1\n",
    "            # else = (mark[u] == mark[v] > -1), donc, on ne fait rien\n",
    "    \n",
    "    print(\"F\", F)\n",
    "    # --- end while\n",
    "    return val\n",
    "       \n"
   ]
  },
  {
   "cell_type": "code",
   "execution_count": 3,
   "id": "c88d78f0",
   "metadata": {},
   "outputs": [
    {
     "name": "stdout",
     "output_type": "stream",
     "text": [
      "Liste des aretes triees de g1 :  [[3, 4, 1], [0, 1, 2], [2, 3, 2], [2, 4, 2], [1, 3, 3], [1, 4, 4], [0, 3, 5], [0, 4, 5], [1, 2, 6]]\n"
     ]
    }
   ],
   "source": [
    "# --- un graphe à 5 sommets ; val min = 8\n",
    "g1 = [ [1,3,4], [0,2,3,4], [1,3,4], [0,1,2,4], [0,1,2,3] ]\n",
    "w1 = [ [2,5,5], [2,6,3,4], [6,2,2], [5,3,2,1], [5,4,2,1] ]\n",
    "\n",
    "# --- l'exemple dans les slides, 8 sommets ; val min = 50\n",
    "g2 = [ [1,2,3], [0,5], [0,3,4,5], [0,2,4,7],\n",
    "          [2,3,5,6,7], [1,2,4,6], [4,5,7], [3,4,6] ]\n",
    "\n",
    "w2 = [ [4,6,16], [4,24], [6,8,5,23], [16,8,10,21],\n",
    "          [5,10,18,11,14], [24,23,18,9], [11,9,7], [21,14,7] ]\n",
    "\n",
    "# Tester la fonction listeAretes avec le graphe g1 et sa matrice des poids w1\n",
    "L1 = listeAretes(g1, w1)\n",
    "# Afficher la liste des arêtes triées par poids croissants de g1\n",
    "print(\"Liste des aretes triees de g1 : \", L1)\n"
   ]
  },
  {
   "cell_type": "code",
   "execution_count": 4,
   "id": "09aa817a",
   "metadata": {},
   "outputs": [
    {
     "name": "stdout",
     "output_type": "stream",
     "text": [
      "F [[3, 1], [4, 1], [0, 1], [1, 1], [2, 1]]\n",
      "\n",
      " --- Val min g1 : 8\n",
      "F [[0, 1], [1, 1], [2, 1], [4, 1], [6, 2], [7, 2], [3, 2], [5, 2]]\n",
      "\n",
      " --- Val min g2 : 50 \n",
      "\n"
     ]
    },
    {
     "data": {
      "text/plain": [
       "\" trace d'exécution :\\n\\n% python Kruskal.py \\n\\n Prélim : liste des aretes triees de g1 :  [[3, 4, 1], [0, 1, 2], [2, 3, 2], [2, 4, 2], [1, 3, 3], [1, 4, 4], [0, 3, 5], [0, 4, 5], [1, 2, 6]]\\n\\n --- Val min g1 : 8\\n\\n --- Val min g2 : 50 \\n\\n\""
      ]
     },
     "execution_count": 4,
     "metadata": {},
     "output_type": "execute_result"
    }
   ],
   "source": [
    "valMin = Kruskal(g1,w1)\n",
    "print(\"\\n --- Val min g1 :\",valMin)\n",
    "    \n",
    "valMin = Kruskal(g2,w2)\n",
    "print(\"\\n --- Val min g2 :\",valMin,\"\\n\")\n",
    "\n",
    "\"\"\" trace d'exécution :\n",
    "\n",
    "% python Kruskal.py \n",
    "\n",
    " Prélim : liste des aretes triees de g1 :  [[3, 4, 1], [0, 1, 2], [2, 3, 2], [2, 4, 2], [1, 3, 3], [1, 4, 4], [0, 3, 5], [0, 4, 5], [1, 2, 6]]\n",
    "\n",
    " --- Val min g1 : 8\n",
    "\n",
    " --- Val min g2 : 50 \n",
    "\n",
    "\"\"\"\n"
   ]
  }
 ],
 "metadata": {
  "kernelspec": {
   "display_name": "Python 3 (ipykernel)",
   "language": "python",
   "name": "python3"
  },
  "language_info": {
   "codemirror_mode": {
    "name": "ipython",
    "version": 3
   },
   "file_extension": ".py",
   "mimetype": "text/x-python",
   "name": "python",
   "nbconvert_exporter": "python",
   "pygments_lexer": "ipython3",
   "version": "3.9.1"
  }
 },
 "nbformat": 4,
 "nbformat_minor": 5
}
