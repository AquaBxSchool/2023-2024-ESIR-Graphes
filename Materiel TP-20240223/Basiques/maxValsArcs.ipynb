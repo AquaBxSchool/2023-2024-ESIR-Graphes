{
 "cells": [
  {
   "cell_type": "code",
   "execution_count": 3,
   "metadata": {},
   "outputs": [],
   "source": [
    "# --- Exo simple avec graphe valué\n",
    "\n",
    "def maxVal(g,w):\n",
    "    \"\"\" On retourne un arc avec la valeur (poids) max\n",
    "        dans le graphe valué (g,w), et cette valeur max\n",
    "    \"\"\"\n",
    "    inf = float('inf') # --- réel infini\n",
    "    n = len(g) # --- # de sommets de G\n",
    "\n",
    "    vmx = -inf\n",
    "    xmx = -1\n",
    "    ymx = -1\n",
    "    for x in range(n): # --- pour chaque sommet x\n",
    "        for i in range(len(g[x])): # --- pour chaque position i dans\n",
    "                                   #     la liste des successeurs de x\n",
    "            y = g[x][i]\n",
    "            v = w[x][i]\n",
    "            if v > vmx:\n",
    "                vmx, xmx, ymx = v, x, y\n",
    "    return vmx,xmx,ymx\n"
   ]
  },
  {
   "cell_type": "code",
   "execution_count": 2,
   "metadata": {},
   "outputs": [
    {
     "name": "stdout",
     "output_type": "stream",
     "text": [
      "--- un arc de valeur max est (1,3) et la valeur max est 16\n"
     ]
    }
   ],
   "source": [
    "# --- Exemple\n",
    "g = [ [1], [2,3], [1,3], [] ]\n",
    "#      0     1     2     3\n",
    "\n",
    "w = [ [10], [9,16], [-4,10], [] ]\n",
    "#       0     1        2     3\n",
    "\n",
    "val,u,v = maxVal(g,w)\n",
    "print(f\"--- un arc de valeur max est ({u},{v}) et la valeur max est {val}\")"
   ]
  }
 ],
 "metadata": {
  "kernelspec": {
   "display_name": "Python 3",
   "language": "python",
   "name": "python3"
  },
  "language_info": {
   "codemirror_mode": {
    "name": "ipython",
    "version": 3
   },
   "file_extension": ".py",
   "mimetype": "text/x-python",
   "name": "python",
   "nbconvert_exporter": "python",
   "pygments_lexer": "ipython3",
   "version": "3.8.3"
  }
 },
 "nbformat": 4,
 "nbformat_minor": 4
}
